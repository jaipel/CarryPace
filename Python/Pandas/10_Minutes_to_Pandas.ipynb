{
 "cells": [
  {
   "cell_type": "markdown",
   "metadata": {},
   "source": [
    "# 10 Minutes to Pandas"
   ]
  },
  {
   "cell_type": "markdown",
   "metadata": {},
   "source": [
    "A notebook working through the Pandas tutorial [here](http://pandas.pydata.org/pandas-docs/stable/10min.html).  Once done can be used to try out other keyword arguments."
   ]
  },
  {
   "cell_type": "markdown",
   "metadata": {},
   "source": [
    "\n",
    "# Import"
   ]
  },
  {
   "cell_type": "code",
   "execution_count": null,
   "metadata": {
    "collapsed": true
   },
   "outputs": [],
   "source": [
    "import pandas as pd\n",
    "import numpy as np\n",
    "import matplotlib.pyplot as plt"
   ]
  },
  {
   "cell_type": "markdown",
   "metadata": {},
   "source": [
    "# Object Creation"
   ]
  },
  {
   "cell_type": "code",
   "execution_count": 2,
   "metadata": {
    "collapsed": false
   },
   "outputs": [
    {
     "data": {
      "text/plain": [
       "0    7.0\n",
       "1    8.0\n",
       "2    5.0\n",
       "3    NaN\n",
       "dtype: float64"
      ]
     },
     "execution_count": 2,
     "metadata": {},
     "output_type": "execute_result"
    }
   ],
   "source": [
    "# Series creation\n",
    "\n",
    "s = pd.Series([7,8,5,np.nan])\n",
    "s"
   ]
  },
  {
   "cell_type": "code",
   "execution_count": 3,
   "metadata": {
    "collapsed": false
   },
   "outputs": [
    {
     "data": {
      "text/html": [
       "<div>\n",
       "<table border=\"1\" class=\"dataframe\">\n",
       "  <thead>\n",
       "    <tr style=\"text-align: right;\">\n",
       "      <th></th>\n",
       "      <th>A</th>\n",
       "      <th>B</th>\n",
       "      <th>C</th>\n",
       "      <th>D</th>\n",
       "    </tr>\n",
       "  </thead>\n",
       "  <tbody>\n",
       "    <tr>\n",
       "      <th>2016-05-20</th>\n",
       "      <td>0.499541</td>\n",
       "      <td>1.208421</td>\n",
       "      <td>1.521087</td>\n",
       "      <td>-0.332500</td>\n",
       "    </tr>\n",
       "    <tr>\n",
       "      <th>2016-05-21</th>\n",
       "      <td>0.590088</td>\n",
       "      <td>1.858737</td>\n",
       "      <td>0.142100</td>\n",
       "      <td>0.076725</td>\n",
       "    </tr>\n",
       "    <tr>\n",
       "      <th>2016-05-22</th>\n",
       "      <td>0.337256</td>\n",
       "      <td>-0.564150</td>\n",
       "      <td>0.455163</td>\n",
       "      <td>1.388999</td>\n",
       "    </tr>\n",
       "    <tr>\n",
       "      <th>2016-05-23</th>\n",
       "      <td>1.814928</td>\n",
       "      <td>-0.400173</td>\n",
       "      <td>-0.184030</td>\n",
       "      <td>0.858760</td>\n",
       "    </tr>\n",
       "    <tr>\n",
       "      <th>2016-05-24</th>\n",
       "      <td>-0.201217</td>\n",
       "      <td>-0.601466</td>\n",
       "      <td>0.565065</td>\n",
       "      <td>-0.421012</td>\n",
       "    </tr>\n",
       "    <tr>\n",
       "      <th>2016-05-25</th>\n",
       "      <td>0.253561</td>\n",
       "      <td>-0.416451</td>\n",
       "      <td>0.130984</td>\n",
       "      <td>-0.000867</td>\n",
       "    </tr>\n",
       "  </tbody>\n",
       "</table>\n",
       "</div>"
      ],
      "text/plain": [
       "                   A         B         C         D\n",
       "2016-05-20  0.499541  1.208421  1.521087 -0.332500\n",
       "2016-05-21  0.590088  1.858737  0.142100  0.076725\n",
       "2016-05-22  0.337256 -0.564150  0.455163  1.388999\n",
       "2016-05-23  1.814928 -0.400173 -0.184030  0.858760\n",
       "2016-05-24 -0.201217 -0.601466  0.565065 -0.421012\n",
       "2016-05-25  0.253561 -0.416451  0.130984 -0.000867"
      ]
     },
     "execution_count": 3,
     "metadata": {},
     "output_type": "execute_result"
    }
   ],
   "source": [
    "# Dataframe creation\n",
    "\n",
    "dates = pd.date_range('20160520',periods=6)\n",
    "df = pd.DataFrame(np.random.randn(6,4), index=dates, columns=['A','B','C','D'])\n",
    "df"
   ]
  },
  {
   "cell_type": "code",
   "execution_count": 4,
   "metadata": {
    "collapsed": false
   },
   "outputs": [
    {
     "data": {
      "text/html": [
       "<div>\n",
       "<table border=\"1\" class=\"dataframe\">\n",
       "  <thead>\n",
       "    <tr style=\"text-align: right;\">\n",
       "      <th></th>\n",
       "      <th>A</th>\n",
       "      <th>B</th>\n",
       "      <th>C</th>\n",
       "      <th>D</th>\n",
       "      <th>E</th>\n",
       "      <th>F</th>\n",
       "    </tr>\n",
       "  </thead>\n",
       "  <tbody>\n",
       "    <tr>\n",
       "      <th>0</th>\n",
       "      <td>2.0</td>\n",
       "      <td>2016-06-05</td>\n",
       "      <td>7.0</td>\n",
       "      <td>4</td>\n",
       "      <td>foo</td>\n",
       "      <td>lorem ipsum</td>\n",
       "    </tr>\n",
       "    <tr>\n",
       "      <th>1</th>\n",
       "      <td>2.0</td>\n",
       "      <td>2016-06-05</td>\n",
       "      <td>8.0</td>\n",
       "      <td>3</td>\n",
       "      <td>bar</td>\n",
       "      <td>lorem ipsum</td>\n",
       "    </tr>\n",
       "    <tr>\n",
       "      <th>2</th>\n",
       "      <td>2.0</td>\n",
       "      <td>2016-06-05</td>\n",
       "      <td>5.0</td>\n",
       "      <td>5</td>\n",
       "      <td>fizz</td>\n",
       "      <td>lorem ipsum</td>\n",
       "    </tr>\n",
       "    <tr>\n",
       "      <th>3</th>\n",
       "      <td>2.0</td>\n",
       "      <td>2016-06-05</td>\n",
       "      <td>NaN</td>\n",
       "      <td>2</td>\n",
       "      <td>buzz</td>\n",
       "      <td>lorem ipsum</td>\n",
       "    </tr>\n",
       "  </tbody>\n",
       "</table>\n",
       "</div>"
      ],
      "text/plain": [
       "     A          B    C  D     E            F\n",
       "0  2.0 2016-06-05  7.0  4   foo  lorem ipsum\n",
       "1  2.0 2016-06-05  8.0  3   bar  lorem ipsum\n",
       "2  2.0 2016-06-05  5.0  5  fizz  lorem ipsum\n",
       "3  2.0 2016-06-05  NaN  2  buzz  lorem ipsum"
      ]
     },
     "execution_count": 4,
     "metadata": {},
     "output_type": "execute_result"
    }
   ],
   "source": [
    "# Dataframe creation using dictionaries\n",
    "kv={'A' : 2.,\n",
    "    'B' : pd.Timestamp('20160605'),\n",
    "    'C' : s,\n",
    "    'D' : np.array([4,3,5,2],dtype='int32'),\n",
    "    'E' : pd.Categorical(['foo','bar','fizz','buzz']),\n",
    "    'F' : 'lorem ipsum'\n",
    "   }\n",
    "dict_df= pd.DataFrame(kv)\n",
    "dict_df"
   ]
  },
  {
   "cell_type": "code",
   "execution_count": 5,
   "metadata": {
    "collapsed": false
   },
   "outputs": [
    {
     "data": {
      "text/plain": [
       "A           float64\n",
       "B    datetime64[ns]\n",
       "C           float64\n",
       "D             int32\n",
       "E          category\n",
       "F            object\n",
       "dtype: object"
      ]
     },
     "execution_count": 5,
     "metadata": {},
     "output_type": "execute_result"
    }
   ],
   "source": [
    "# Get data types\n",
    "dict_df.dtypes"
   ]
  },
  {
   "cell_type": "markdown",
   "metadata": {},
   "source": [
    "# Viewing Data"
   ]
  },
  {
   "cell_type": "code",
   "execution_count": 6,
   "metadata": {
    "collapsed": false
   },
   "outputs": [
    {
     "data": {
      "text/html": [
       "<div>\n",
       "<table border=\"1\" class=\"dataframe\">\n",
       "  <thead>\n",
       "    <tr style=\"text-align: right;\">\n",
       "      <th></th>\n",
       "      <th>A</th>\n",
       "      <th>B</th>\n",
       "      <th>C</th>\n",
       "      <th>D</th>\n",
       "      <th>E</th>\n",
       "      <th>F</th>\n",
       "    </tr>\n",
       "  </thead>\n",
       "  <tbody>\n",
       "    <tr>\n",
       "      <th>0</th>\n",
       "      <td>2.0</td>\n",
       "      <td>2016-06-05</td>\n",
       "      <td>7.0</td>\n",
       "      <td>4</td>\n",
       "      <td>foo</td>\n",
       "      <td>lorem ipsum</td>\n",
       "    </tr>\n",
       "    <tr>\n",
       "      <th>1</th>\n",
       "      <td>2.0</td>\n",
       "      <td>2016-06-05</td>\n",
       "      <td>8.0</td>\n",
       "      <td>3</td>\n",
       "      <td>bar</td>\n",
       "      <td>lorem ipsum</td>\n",
       "    </tr>\n",
       "    <tr>\n",
       "      <th>2</th>\n",
       "      <td>2.0</td>\n",
       "      <td>2016-06-05</td>\n",
       "      <td>5.0</td>\n",
       "      <td>5</td>\n",
       "      <td>fizz</td>\n",
       "      <td>lorem ipsum</td>\n",
       "    </tr>\n",
       "    <tr>\n",
       "      <th>3</th>\n",
       "      <td>2.0</td>\n",
       "      <td>2016-06-05</td>\n",
       "      <td>NaN</td>\n",
       "      <td>2</td>\n",
       "      <td>buzz</td>\n",
       "      <td>lorem ipsum</td>\n",
       "    </tr>\n",
       "  </tbody>\n",
       "</table>\n",
       "</div>"
      ],
      "text/plain": [
       "     A          B    C  D     E            F\n",
       "0  2.0 2016-06-05  7.0  4   foo  lorem ipsum\n",
       "1  2.0 2016-06-05  8.0  3   bar  lorem ipsum\n",
       "2  2.0 2016-06-05  5.0  5  fizz  lorem ipsum\n",
       "3  2.0 2016-06-05  NaN  2  buzz  lorem ipsum"
      ]
     },
     "execution_count": 6,
     "metadata": {},
     "output_type": "execute_result"
    }
   ],
   "source": [
    "# Head of dataframe\n",
    "\n",
    "dict_df.head()"
   ]
  },
  {
   "cell_type": "code",
   "execution_count": 7,
   "metadata": {
    "collapsed": false
   },
   "outputs": [
    {
     "data": {
      "text/html": [
       "<div>\n",
       "<table border=\"1\" class=\"dataframe\">\n",
       "  <thead>\n",
       "    <tr style=\"text-align: right;\">\n",
       "      <th></th>\n",
       "      <th>A</th>\n",
       "      <th>B</th>\n",
       "      <th>C</th>\n",
       "      <th>D</th>\n",
       "      <th>E</th>\n",
       "      <th>F</th>\n",
       "    </tr>\n",
       "  </thead>\n",
       "  <tbody>\n",
       "    <tr>\n",
       "      <th>1</th>\n",
       "      <td>2.0</td>\n",
       "      <td>2016-06-05</td>\n",
       "      <td>8.0</td>\n",
       "      <td>3</td>\n",
       "      <td>bar</td>\n",
       "      <td>lorem ipsum</td>\n",
       "    </tr>\n",
       "    <tr>\n",
       "      <th>2</th>\n",
       "      <td>2.0</td>\n",
       "      <td>2016-06-05</td>\n",
       "      <td>5.0</td>\n",
       "      <td>5</td>\n",
       "      <td>fizz</td>\n",
       "      <td>lorem ipsum</td>\n",
       "    </tr>\n",
       "    <tr>\n",
       "      <th>3</th>\n",
       "      <td>2.0</td>\n",
       "      <td>2016-06-05</td>\n",
       "      <td>NaN</td>\n",
       "      <td>2</td>\n",
       "      <td>buzz</td>\n",
       "      <td>lorem ipsum</td>\n",
       "    </tr>\n",
       "  </tbody>\n",
       "</table>\n",
       "</div>"
      ],
      "text/plain": [
       "     A          B    C  D     E            F\n",
       "1  2.0 2016-06-05  8.0  3   bar  lorem ipsum\n",
       "2  2.0 2016-06-05  5.0  5  fizz  lorem ipsum\n",
       "3  2.0 2016-06-05  NaN  2  buzz  lorem ipsum"
      ]
     },
     "execution_count": 7,
     "metadata": {},
     "output_type": "execute_result"
    }
   ],
   "source": [
    "# Tail of dataframe\n",
    "\n",
    "dict_df.tail(3)"
   ]
  },
  {
   "cell_type": "code",
   "execution_count": 8,
   "metadata": {
    "collapsed": false
   },
   "outputs": [
    {
     "data": {
      "text/plain": [
       "Index([u'A', u'B', u'C', u'D', u'E', u'F'], dtype='object')"
      ]
     },
     "execution_count": 8,
     "metadata": {},
     "output_type": "execute_result"
    }
   ],
   "source": [
    "# Display columns\n",
    "\n",
    "dict_df.columns"
   ]
  },
  {
   "cell_type": "code",
   "execution_count": 9,
   "metadata": {
    "collapsed": false
   },
   "outputs": [
    {
     "data": {
      "text/plain": [
       "array([[2.0, Timestamp('2016-06-05 00:00:00'), 7.0, 4, 'foo', 'lorem ipsum'],\n",
       "       [2.0, Timestamp('2016-06-05 00:00:00'), 8.0, 3, 'bar', 'lorem ipsum'],\n",
       "       [2.0, Timestamp('2016-06-05 00:00:00'), 5.0, 5, 'fizz',\n",
       "        'lorem ipsum'],\n",
       "       [2.0, Timestamp('2016-06-05 00:00:00'), nan, 2, 'buzz',\n",
       "        'lorem ipsum']], dtype=object)"
      ]
     },
     "execution_count": 9,
     "metadata": {},
     "output_type": "execute_result"
    }
   ],
   "source": [
    "# Display data\n",
    "\n",
    "dict_df.values"
   ]
  },
  {
   "cell_type": "code",
   "execution_count": 10,
   "metadata": {
    "collapsed": false
   },
   "outputs": [
    {
     "data": {
      "text/plain": [
       "RangeIndex(start=0, stop=4, step=1)"
      ]
     },
     "execution_count": 10,
     "metadata": {},
     "output_type": "execute_result"
    }
   ],
   "source": [
    "# Display row indices\n",
    "\n",
    "dict_df.index"
   ]
  },
  {
   "cell_type": "code",
   "execution_count": 11,
   "metadata": {
    "collapsed": false
   },
   "outputs": [
    {
     "name": "stderr",
     "output_type": "stream",
     "text": [
      "/Users/john/anaconda/lib/python2.7/site-packages/numpy/lib/function_base.py:3823: RuntimeWarning: Invalid value encountered in percentile\n",
      "  RuntimeWarning)\n"
     ]
    },
    {
     "data": {
      "text/html": [
       "<div>\n",
       "<table border=\"1\" class=\"dataframe\">\n",
       "  <thead>\n",
       "    <tr style=\"text-align: right;\">\n",
       "      <th></th>\n",
       "      <th>A</th>\n",
       "      <th>C</th>\n",
       "      <th>D</th>\n",
       "    </tr>\n",
       "  </thead>\n",
       "  <tbody>\n",
       "    <tr>\n",
       "      <th>count</th>\n",
       "      <td>4.0</td>\n",
       "      <td>3.000000</td>\n",
       "      <td>4.000000</td>\n",
       "    </tr>\n",
       "    <tr>\n",
       "      <th>mean</th>\n",
       "      <td>2.0</td>\n",
       "      <td>6.666667</td>\n",
       "      <td>3.500000</td>\n",
       "    </tr>\n",
       "    <tr>\n",
       "      <th>std</th>\n",
       "      <td>0.0</td>\n",
       "      <td>1.527525</td>\n",
       "      <td>1.290994</td>\n",
       "    </tr>\n",
       "    <tr>\n",
       "      <th>min</th>\n",
       "      <td>2.0</td>\n",
       "      <td>5.000000</td>\n",
       "      <td>2.000000</td>\n",
       "    </tr>\n",
       "    <tr>\n",
       "      <th>25%</th>\n",
       "      <td>2.0</td>\n",
       "      <td>NaN</td>\n",
       "      <td>2.750000</td>\n",
       "    </tr>\n",
       "    <tr>\n",
       "      <th>50%</th>\n",
       "      <td>2.0</td>\n",
       "      <td>NaN</td>\n",
       "      <td>3.500000</td>\n",
       "    </tr>\n",
       "    <tr>\n",
       "      <th>75%</th>\n",
       "      <td>2.0</td>\n",
       "      <td>NaN</td>\n",
       "      <td>4.250000</td>\n",
       "    </tr>\n",
       "    <tr>\n",
       "      <th>max</th>\n",
       "      <td>2.0</td>\n",
       "      <td>8.000000</td>\n",
       "      <td>5.000000</td>\n",
       "    </tr>\n",
       "  </tbody>\n",
       "</table>\n",
       "</div>"
      ],
      "text/plain": [
       "         A         C         D\n",
       "count  4.0  3.000000  4.000000\n",
       "mean   2.0  6.666667  3.500000\n",
       "std    0.0  1.527525  1.290994\n",
       "min    2.0  5.000000  2.000000\n",
       "25%    2.0       NaN  2.750000\n",
       "50%    2.0       NaN  3.500000\n",
       "75%    2.0       NaN  4.250000\n",
       "max    2.0  8.000000  5.000000"
      ]
     },
     "execution_count": 11,
     "metadata": {},
     "output_type": "execute_result"
    }
   ],
   "source": [
    "# Describe\n",
    "\n",
    "dict_df.describe()"
   ]
  },
  {
   "cell_type": "code",
   "execution_count": 12,
   "metadata": {
    "collapsed": false
   },
   "outputs": [
    {
     "data": {
      "text/html": [
       "<div>\n",
       "<table border=\"1\" class=\"dataframe\">\n",
       "  <thead>\n",
       "    <tr style=\"text-align: right;\">\n",
       "      <th></th>\n",
       "      <th>0</th>\n",
       "      <th>1</th>\n",
       "      <th>2</th>\n",
       "      <th>3</th>\n",
       "    </tr>\n",
       "  </thead>\n",
       "  <tbody>\n",
       "    <tr>\n",
       "      <th>A</th>\n",
       "      <td>2</td>\n",
       "      <td>2</td>\n",
       "      <td>2</td>\n",
       "      <td>2</td>\n",
       "    </tr>\n",
       "    <tr>\n",
       "      <th>B</th>\n",
       "      <td>2016-06-05 00:00:00</td>\n",
       "      <td>2016-06-05 00:00:00</td>\n",
       "      <td>2016-06-05 00:00:00</td>\n",
       "      <td>2016-06-05 00:00:00</td>\n",
       "    </tr>\n",
       "    <tr>\n",
       "      <th>C</th>\n",
       "      <td>7</td>\n",
       "      <td>8</td>\n",
       "      <td>5</td>\n",
       "      <td>NaN</td>\n",
       "    </tr>\n",
       "    <tr>\n",
       "      <th>D</th>\n",
       "      <td>4</td>\n",
       "      <td>3</td>\n",
       "      <td>5</td>\n",
       "      <td>2</td>\n",
       "    </tr>\n",
       "    <tr>\n",
       "      <th>E</th>\n",
       "      <td>foo</td>\n",
       "      <td>bar</td>\n",
       "      <td>fizz</td>\n",
       "      <td>buzz</td>\n",
       "    </tr>\n",
       "    <tr>\n",
       "      <th>F</th>\n",
       "      <td>lorem ipsum</td>\n",
       "      <td>lorem ipsum</td>\n",
       "      <td>lorem ipsum</td>\n",
       "      <td>lorem ipsum</td>\n",
       "    </tr>\n",
       "  </tbody>\n",
       "</table>\n",
       "</div>"
      ],
      "text/plain": [
       "                     0                    1                    2  \\\n",
       "A                    2                    2                    2   \n",
       "B  2016-06-05 00:00:00  2016-06-05 00:00:00  2016-06-05 00:00:00   \n",
       "C                    7                    8                    5   \n",
       "D                    4                    3                    5   \n",
       "E                  foo                  bar                 fizz   \n",
       "F          lorem ipsum          lorem ipsum          lorem ipsum   \n",
       "\n",
       "                     3  \n",
       "A                    2  \n",
       "B  2016-06-05 00:00:00  \n",
       "C                  NaN  \n",
       "D                    2  \n",
       "E                 buzz  \n",
       "F          lorem ipsum  "
      ]
     },
     "execution_count": 12,
     "metadata": {},
     "output_type": "execute_result"
    }
   ],
   "source": [
    "# Transpose\n",
    "\n",
    "dict_df.T"
   ]
  },
  {
   "cell_type": "code",
   "execution_count": 13,
   "metadata": {
    "collapsed": false
   },
   "outputs": [
    {
     "data": {
      "text/html": [
       "<div>\n",
       "<table border=\"1\" class=\"dataframe\">\n",
       "  <thead>\n",
       "    <tr style=\"text-align: right;\">\n",
       "      <th></th>\n",
       "      <th>A</th>\n",
       "      <th>B</th>\n",
       "      <th>C</th>\n",
       "      <th>D</th>\n",
       "      <th>E</th>\n",
       "      <th>F</th>\n",
       "    </tr>\n",
       "  </thead>\n",
       "  <tbody>\n",
       "    <tr>\n",
       "      <th>3</th>\n",
       "      <td>2.0</td>\n",
       "      <td>2016-06-05</td>\n",
       "      <td>NaN</td>\n",
       "      <td>2</td>\n",
       "      <td>buzz</td>\n",
       "      <td>lorem ipsum</td>\n",
       "    </tr>\n",
       "    <tr>\n",
       "      <th>2</th>\n",
       "      <td>2.0</td>\n",
       "      <td>2016-06-05</td>\n",
       "      <td>5.0</td>\n",
       "      <td>5</td>\n",
       "      <td>fizz</td>\n",
       "      <td>lorem ipsum</td>\n",
       "    </tr>\n",
       "    <tr>\n",
       "      <th>1</th>\n",
       "      <td>2.0</td>\n",
       "      <td>2016-06-05</td>\n",
       "      <td>8.0</td>\n",
       "      <td>3</td>\n",
       "      <td>bar</td>\n",
       "      <td>lorem ipsum</td>\n",
       "    </tr>\n",
       "    <tr>\n",
       "      <th>0</th>\n",
       "      <td>2.0</td>\n",
       "      <td>2016-06-05</td>\n",
       "      <td>7.0</td>\n",
       "      <td>4</td>\n",
       "      <td>foo</td>\n",
       "      <td>lorem ipsum</td>\n",
       "    </tr>\n",
       "  </tbody>\n",
       "</table>\n",
       "</div>"
      ],
      "text/plain": [
       "     A          B    C  D     E            F\n",
       "3  2.0 2016-06-05  NaN  2  buzz  lorem ipsum\n",
       "2  2.0 2016-06-05  5.0  5  fizz  lorem ipsum\n",
       "1  2.0 2016-06-05  8.0  3   bar  lorem ipsum\n",
       "0  2.0 2016-06-05  7.0  4   foo  lorem ipsum"
      ]
     },
     "execution_count": 13,
     "metadata": {},
     "output_type": "execute_result"
    }
   ],
   "source": [
    "# Sort by index or column name\n",
    "\n",
    "dict_df.sort_index(axis=0,ascending=False)"
   ]
  },
  {
   "cell_type": "code",
   "execution_count": 14,
   "metadata": {
    "collapsed": false
   },
   "outputs": [
    {
     "data": {
      "text/html": [
       "<div>\n",
       "<table border=\"1\" class=\"dataframe\">\n",
       "  <thead>\n",
       "    <tr style=\"text-align: right;\">\n",
       "      <th></th>\n",
       "      <th>A</th>\n",
       "      <th>B</th>\n",
       "      <th>C</th>\n",
       "      <th>D</th>\n",
       "      <th>E</th>\n",
       "      <th>F</th>\n",
       "    </tr>\n",
       "  </thead>\n",
       "  <tbody>\n",
       "    <tr>\n",
       "      <th>3</th>\n",
       "      <td>2.0</td>\n",
       "      <td>2016-06-05</td>\n",
       "      <td>NaN</td>\n",
       "      <td>2</td>\n",
       "      <td>buzz</td>\n",
       "      <td>lorem ipsum</td>\n",
       "    </tr>\n",
       "    <tr>\n",
       "      <th>1</th>\n",
       "      <td>2.0</td>\n",
       "      <td>2016-06-05</td>\n",
       "      <td>8.0</td>\n",
       "      <td>3</td>\n",
       "      <td>bar</td>\n",
       "      <td>lorem ipsum</td>\n",
       "    </tr>\n",
       "    <tr>\n",
       "      <th>0</th>\n",
       "      <td>2.0</td>\n",
       "      <td>2016-06-05</td>\n",
       "      <td>7.0</td>\n",
       "      <td>4</td>\n",
       "      <td>foo</td>\n",
       "      <td>lorem ipsum</td>\n",
       "    </tr>\n",
       "    <tr>\n",
       "      <th>2</th>\n",
       "      <td>2.0</td>\n",
       "      <td>2016-06-05</td>\n",
       "      <td>5.0</td>\n",
       "      <td>5</td>\n",
       "      <td>fizz</td>\n",
       "      <td>lorem ipsum</td>\n",
       "    </tr>\n",
       "  </tbody>\n",
       "</table>\n",
       "</div>"
      ],
      "text/plain": [
       "     A          B    C  D     E            F\n",
       "3  2.0 2016-06-05  NaN  2  buzz  lorem ipsum\n",
       "1  2.0 2016-06-05  8.0  3   bar  lorem ipsum\n",
       "0  2.0 2016-06-05  7.0  4   foo  lorem ipsum\n",
       "2  2.0 2016-06-05  5.0  5  fizz  lorem ipsum"
      ]
     },
     "execution_count": 14,
     "metadata": {},
     "output_type": "execute_result"
    }
   ],
   "source": [
    "# Sort by values\n",
    "# New in 0.18; older versions use 'sort'\n",
    "\n",
    "dict_df.sort_values(by='D')"
   ]
  },
  {
   "cell_type": "markdown",
   "metadata": {},
   "source": [
    "# Selection"
   ]
  },
  {
   "cell_type": "markdown",
   "metadata": {
    "collapsed": true
   },
   "source": [
    "## Getting"
   ]
  },
  {
   "cell_type": "code",
   "execution_count": 15,
   "metadata": {
    "collapsed": false
   },
   "outputs": [
    {
     "data": {
      "text/plain": [
       "0    2.0\n",
       "1    2.0\n",
       "2    2.0\n",
       "3    2.0\n",
       "Name: A, dtype: float64"
      ]
     },
     "execution_count": 15,
     "metadata": {},
     "output_type": "execute_result"
    }
   ],
   "source": [
    "dict_df['A']"
   ]
  },
  {
   "cell_type": "code",
   "execution_count": 16,
   "metadata": {
    "collapsed": false
   },
   "outputs": [
    {
     "data": {
      "text/plain": [
       "0    True\n",
       "1    True\n",
       "2    True\n",
       "3    True\n",
       "Name: A, dtype: bool"
      ]
     },
     "execution_count": 16,
     "metadata": {},
     "output_type": "execute_result"
    }
   ],
   "source": [
    "# Fascinating\n",
    "\n",
    "dict_df['A']==dict_df.A"
   ]
  },
  {
   "cell_type": "code",
   "execution_count": 18,
   "metadata": {
    "collapsed": false
   },
   "outputs": [
    {
     "data": {
      "text/html": [
       "<div>\n",
       "<table border=\"1\" class=\"dataframe\">\n",
       "  <thead>\n",
       "    <tr style=\"text-align: right;\">\n",
       "      <th></th>\n",
       "      <th>A</th>\n",
       "      <th>B</th>\n",
       "      <th>C</th>\n",
       "      <th>D</th>\n",
       "    </tr>\n",
       "  </thead>\n",
       "  <tbody>\n",
       "    <tr>\n",
       "      <th>2016-05-20</th>\n",
       "      <td>0.499541</td>\n",
       "      <td>1.208421</td>\n",
       "      <td>1.521087</td>\n",
       "      <td>-0.332500</td>\n",
       "    </tr>\n",
       "    <tr>\n",
       "      <th>2016-05-21</th>\n",
       "      <td>0.590088</td>\n",
       "      <td>1.858737</td>\n",
       "      <td>0.142100</td>\n",
       "      <td>0.076725</td>\n",
       "    </tr>\n",
       "  </tbody>\n",
       "</table>\n",
       "</div>"
      ],
      "text/plain": [
       "                   A         B         C         D\n",
       "2016-05-20  0.499541  1.208421  1.521087 -0.332500\n",
       "2016-05-21  0.590088  1.858737  0.142100  0.076725"
      ]
     },
     "execution_count": 18,
     "metadata": {},
     "output_type": "execute_result"
    }
   ],
   "source": [
    "# Row slicing\n",
    "\n",
    "df[0:2]"
   ]
  },
  {
   "cell_type": "code",
   "execution_count": 21,
   "metadata": {
    "collapsed": false
   },
   "outputs": [
    {
     "data": {
      "text/html": [
       "<div>\n",
       "<table border=\"1\" class=\"dataframe\">\n",
       "  <thead>\n",
       "    <tr style=\"text-align: right;\">\n",
       "      <th></th>\n",
       "      <th>A</th>\n",
       "      <th>B</th>\n",
       "      <th>C</th>\n",
       "      <th>D</th>\n",
       "    </tr>\n",
       "  </thead>\n",
       "  <tbody>\n",
       "    <tr>\n",
       "      <th>2016-05-20</th>\n",
       "      <td>0.499541</td>\n",
       "      <td>1.208421</td>\n",
       "      <td>1.521087</td>\n",
       "      <td>-0.332500</td>\n",
       "    </tr>\n",
       "    <tr>\n",
       "      <th>2016-05-21</th>\n",
       "      <td>0.590088</td>\n",
       "      <td>1.858737</td>\n",
       "      <td>0.142100</td>\n",
       "      <td>0.076725</td>\n",
       "    </tr>\n",
       "    <tr>\n",
       "      <th>2016-05-22</th>\n",
       "      <td>0.337256</td>\n",
       "      <td>-0.564150</td>\n",
       "      <td>0.455163</td>\n",
       "      <td>1.388999</td>\n",
       "    </tr>\n",
       "    <tr>\n",
       "      <th>2016-05-23</th>\n",
       "      <td>1.814928</td>\n",
       "      <td>-0.400173</td>\n",
       "      <td>-0.184030</td>\n",
       "      <td>0.858760</td>\n",
       "    </tr>\n",
       "  </tbody>\n",
       "</table>\n",
       "</div>"
      ],
      "text/plain": [
       "                   A         B         C         D\n",
       "2016-05-20  0.499541  1.208421  1.521087 -0.332500\n",
       "2016-05-21  0.590088  1.858737  0.142100  0.076725\n",
       "2016-05-22  0.337256 -0.564150  0.455163  1.388999\n",
       "2016-05-23  1.814928 -0.400173 -0.184030  0.858760"
      ]
     },
     "execution_count": 21,
     "metadata": {},
     "output_type": "execute_result"
    }
   ],
   "source": [
    "df['20160520':'20160523']"
   ]
  },
  {
   "cell_type": "code",
   "execution_count": 23,
   "metadata": {
    "collapsed": false
   },
   "outputs": [
    {
     "data": {
      "text/html": [
       "<div>\n",
       "<table border=\"1\" class=\"dataframe\">\n",
       "  <thead>\n",
       "    <tr style=\"text-align: right;\">\n",
       "      <th></th>\n",
       "      <th>A</th>\n",
       "      <th>B</th>\n",
       "      <th>C</th>\n",
       "      <th>D</th>\n",
       "    </tr>\n",
       "  </thead>\n",
       "  <tbody>\n",
       "    <tr>\n",
       "      <th>2016-05-20</th>\n",
       "      <td>0.499541</td>\n",
       "      <td>1.208421</td>\n",
       "      <td>1.521087</td>\n",
       "      <td>-0.3325</td>\n",
       "    </tr>\n",
       "  </tbody>\n",
       "</table>\n",
       "</div>"
      ],
      "text/plain": [
       "                   A         B         C       D\n",
       "2016-05-20  0.499541  1.208421  1.521087 -0.3325"
      ]
     },
     "execution_count": 23,
     "metadata": {},
     "output_type": "execute_result"
    }
   ],
   "source": [
    "# Robust to dates that precede first recorded date in the dataframe\n",
    "\n",
    "df['20130228':'20160520']"
   ]
  },
  {
   "cell_type": "markdown",
   "metadata": {},
   "source": [
    "## Selection by Label"
   ]
  },
  {
   "cell_type": "code",
   "execution_count": 37,
   "metadata": {
    "collapsed": false
   },
   "outputs": [
    {
     "data": {
      "text/plain": [
       "A    0.499541\n",
       "B    1.208421\n",
       "C    1.521087\n",
       "D   -0.332500\n",
       "Name: 2016-05-20 00:00:00, dtype: float64"
      ]
     },
     "execution_count": 37,
     "metadata": {},
     "output_type": "execute_result"
    }
   ],
   "source": [
    "# .loc is for labels\n",
    "firstdate=pd.tslib.Timestamp(('20160520'))\n",
    "df.loc[firstdate]"
   ]
  },
  {
   "cell_type": "code",
   "execution_count": 38,
   "metadata": {
    "collapsed": false
   },
   "outputs": [
    {
     "data": {
      "text/html": [
       "<div>\n",
       "<table border=\"1\" class=\"dataframe\">\n",
       "  <thead>\n",
       "    <tr style=\"text-align: right;\">\n",
       "      <th></th>\n",
       "      <th>D</th>\n",
       "      <th>C</th>\n",
       "    </tr>\n",
       "  </thead>\n",
       "  <tbody>\n",
       "    <tr>\n",
       "      <th>2016-05-20</th>\n",
       "      <td>-0.332500</td>\n",
       "      <td>1.521087</td>\n",
       "    </tr>\n",
       "    <tr>\n",
       "      <th>2016-05-21</th>\n",
       "      <td>0.076725</td>\n",
       "      <td>0.142100</td>\n",
       "    </tr>\n",
       "    <tr>\n",
       "      <th>2016-05-22</th>\n",
       "      <td>1.388999</td>\n",
       "      <td>0.455163</td>\n",
       "    </tr>\n",
       "    <tr>\n",
       "      <th>2016-05-23</th>\n",
       "      <td>0.858760</td>\n",
       "      <td>-0.184030</td>\n",
       "    </tr>\n",
       "    <tr>\n",
       "      <th>2016-05-24</th>\n",
       "      <td>-0.421012</td>\n",
       "      <td>0.565065</td>\n",
       "    </tr>\n",
       "    <tr>\n",
       "      <th>2016-05-25</th>\n",
       "      <td>-0.000867</td>\n",
       "      <td>0.130984</td>\n",
       "    </tr>\n",
       "  </tbody>\n",
       "</table>\n",
       "</div>"
      ],
      "text/plain": [
       "                   D         C\n",
       "2016-05-20 -0.332500  1.521087\n",
       "2016-05-21  0.076725  0.142100\n",
       "2016-05-22  1.388999  0.455163\n",
       "2016-05-23  0.858760 -0.184030\n",
       "2016-05-24 -0.421012  0.565065\n",
       "2016-05-25 -0.000867  0.130984"
      ]
     },
     "execution_count": 38,
     "metadata": {},
     "output_type": "execute_result"
    }
   ],
   "source": [
    "# Select two axes by label\n",
    "df.loc[:,['D','C']]"
   ]
  },
  {
   "cell_type": "code",
   "execution_count": 42,
   "metadata": {
    "collapsed": false
   },
   "outputs": [
    {
     "data": {
      "text/html": [
       "<div>\n",
       "<table border=\"1\" class=\"dataframe\">\n",
       "  <thead>\n",
       "    <tr style=\"text-align: right;\">\n",
       "      <th></th>\n",
       "      <th>D</th>\n",
       "      <th>C</th>\n",
       "    </tr>\n",
       "  </thead>\n",
       "  <tbody>\n",
       "    <tr>\n",
       "      <th>2016-05-22</th>\n",
       "      <td>1.388999</td>\n",
       "      <td>0.455163</td>\n",
       "    </tr>\n",
       "    <tr>\n",
       "      <th>2016-05-23</th>\n",
       "      <td>0.858760</td>\n",
       "      <td>-0.184030</td>\n",
       "    </tr>\n",
       "    <tr>\n",
       "      <th>2016-05-24</th>\n",
       "      <td>-0.421012</td>\n",
       "      <td>0.565065</td>\n",
       "    </tr>\n",
       "  </tbody>\n",
       "</table>\n",
       "</div>"
      ],
      "text/plain": [
       "                   D         C\n",
       "2016-05-22  1.388999  0.455163\n",
       "2016-05-23  0.858760 -0.184030\n",
       "2016-05-24 -0.421012  0.565065"
      ]
     },
     "execution_count": 42,
     "metadata": {},
     "output_type": "execute_result"
    }
   ],
   "source": [
    "# Both endpoints are included in date slicing\n",
    "\n",
    "df.loc['20160522':'20160524',['D','C']]"
   ]
  },
  {
   "cell_type": "code",
   "execution_count": 43,
   "metadata": {
    "collapsed": false
   },
   "outputs": [
    {
     "data": {
      "text/plain": [
       "1.5210867830963324"
      ]
     },
     "execution_count": 43,
     "metadata": {},
     "output_type": "execute_result"
    }
   ],
   "source": [
    "# Return scalar\n",
    "\n",
    "df.loc[firstdate,'C']"
   ]
  },
  {
   "cell_type": "code",
   "execution_count": 44,
   "metadata": {
    "collapsed": false
   },
   "outputs": [
    {
     "data": {
      "text/plain": [
       "1.5210867830963324"
      ]
     },
     "execution_count": 44,
     "metadata": {},
     "output_type": "execute_result"
    }
   ],
   "source": [
    "# Return scalar, but quickly (how exactly? / why would you want to use .loc for returning scalars then)\n",
    "\n",
    "df.at[firstdate,'C']"
   ]
  },
  {
   "cell_type": "markdown",
   "metadata": {},
   "source": [
    "## Selection by Position"
   ]
  },
  {
   "cell_type": "markdown",
   "metadata": {},
   "source": [
    "## Boolean Indexing"
   ]
  },
  {
   "cell_type": "markdown",
   "metadata": {},
   "source": [
    "## Setting"
   ]
  },
  {
   "cell_type": "code",
   "execution_count": 48,
   "metadata": {
    "collapsed": false
   },
   "outputs": [
    {
     "data": {
      "text/html": [
       "<div>\n",
       "<table border=\"1\" class=\"dataframe\">\n",
       "  <thead>\n",
       "    <tr style=\"text-align: right;\">\n",
       "      <th></th>\n",
       "      <th>A</th>\n",
       "      <th>B</th>\n",
       "      <th>C</th>\n",
       "      <th>D</th>\n",
       "      <th>F</th>\n",
       "    </tr>\n",
       "  </thead>\n",
       "  <tbody>\n",
       "    <tr>\n",
       "      <th>2016-05-20</th>\n",
       "      <td>0.499541</td>\n",
       "      <td>1.208421</td>\n",
       "      <td>1.521087</td>\n",
       "      <td>-0.332500</td>\n",
       "      <td>3</td>\n",
       "    </tr>\n",
       "    <tr>\n",
       "      <th>2016-05-21</th>\n",
       "      <td>0.590088</td>\n",
       "      <td>1.858737</td>\n",
       "      <td>0.142100</td>\n",
       "      <td>0.076725</td>\n",
       "      <td>5</td>\n",
       "    </tr>\n",
       "    <tr>\n",
       "      <th>2016-05-22</th>\n",
       "      <td>0.337256</td>\n",
       "      <td>-0.564150</td>\n",
       "      <td>0.455163</td>\n",
       "      <td>1.388999</td>\n",
       "      <td>3</td>\n",
       "    </tr>\n",
       "    <tr>\n",
       "      <th>2016-05-23</th>\n",
       "      <td>1.814928</td>\n",
       "      <td>-0.400173</td>\n",
       "      <td>-0.184030</td>\n",
       "      <td>0.858760</td>\n",
       "      <td>4</td>\n",
       "    </tr>\n",
       "    <tr>\n",
       "      <th>2016-05-24</th>\n",
       "      <td>-0.201217</td>\n",
       "      <td>-0.601466</td>\n",
       "      <td>0.565065</td>\n",
       "      <td>-0.421012</td>\n",
       "      <td>2</td>\n",
       "    </tr>\n",
       "    <tr>\n",
       "      <th>2016-05-25</th>\n",
       "      <td>0.253561</td>\n",
       "      <td>-0.416451</td>\n",
       "      <td>0.130984</td>\n",
       "      <td>-0.000867</td>\n",
       "      <td>1</td>\n",
       "    </tr>\n",
       "  </tbody>\n",
       "</table>\n",
       "</div>"
      ],
      "text/plain": [
       "                   A         B         C         D  F\n",
       "2016-05-20  0.499541  1.208421  1.521087 -0.332500  3\n",
       "2016-05-21  0.590088  1.858737  0.142100  0.076725  5\n",
       "2016-05-22  0.337256 -0.564150  0.455163  1.388999  3\n",
       "2016-05-23  1.814928 -0.400173 -0.184030  0.858760  4\n",
       "2016-05-24 -0.201217 -0.601466  0.565065 -0.421012  2\n",
       "2016-05-25  0.253561 -0.416451  0.130984 -0.000867  1"
      ]
     },
     "execution_count": 48,
     "metadata": {},
     "output_type": "execute_result"
    }
   ],
   "source": [
    "# Adding a new column\n",
    "\n",
    "s1 = pd.Series([3,5,3,4,2,1], index=pd.date_range('20160520',periods=6))\n",
    "s1\n",
    "df['F']=s1\n",
    "df"
   ]
  },
  {
   "cell_type": "code",
   "execution_count": 49,
   "metadata": {
    "collapsed": false
   },
   "outputs": [
    {
     "data": {
      "text/html": [
       "<div>\n",
       "<table border=\"1\" class=\"dataframe\">\n",
       "  <thead>\n",
       "    <tr style=\"text-align: right;\">\n",
       "      <th></th>\n",
       "      <th>A</th>\n",
       "      <th>B</th>\n",
       "      <th>C</th>\n",
       "      <th>D</th>\n",
       "      <th>F</th>\n",
       "    </tr>\n",
       "  </thead>\n",
       "  <tbody>\n",
       "    <tr>\n",
       "      <th>2016-05-20</th>\n",
       "      <td>0.499541</td>\n",
       "      <td>1.208421</td>\n",
       "      <td>1.521087</td>\n",
       "      <td>0.000000</td>\n",
       "      <td>3</td>\n",
       "    </tr>\n",
       "    <tr>\n",
       "      <th>2016-05-21</th>\n",
       "      <td>0.590088</td>\n",
       "      <td>1.858737</td>\n",
       "      <td>0.142100</td>\n",
       "      <td>0.076725</td>\n",
       "      <td>5</td>\n",
       "    </tr>\n",
       "    <tr>\n",
       "      <th>2016-05-22</th>\n",
       "      <td>0.337256</td>\n",
       "      <td>-0.564150</td>\n",
       "      <td>0.455163</td>\n",
       "      <td>1.388999</td>\n",
       "      <td>3</td>\n",
       "    </tr>\n",
       "    <tr>\n",
       "      <th>2016-05-23</th>\n",
       "      <td>1.814928</td>\n",
       "      <td>-0.400173</td>\n",
       "      <td>-0.184030</td>\n",
       "      <td>0.858760</td>\n",
       "      <td>4</td>\n",
       "    </tr>\n",
       "    <tr>\n",
       "      <th>2016-05-24</th>\n",
       "      <td>-0.201217</td>\n",
       "      <td>-0.601466</td>\n",
       "      <td>0.565065</td>\n",
       "      <td>-0.421012</td>\n",
       "      <td>2</td>\n",
       "    </tr>\n",
       "    <tr>\n",
       "      <th>2016-05-25</th>\n",
       "      <td>0.253561</td>\n",
       "      <td>-0.416451</td>\n",
       "      <td>0.130984</td>\n",
       "      <td>-0.000867</td>\n",
       "      <td>1</td>\n",
       "    </tr>\n",
       "  </tbody>\n",
       "</table>\n",
       "</div>"
      ],
      "text/plain": [
       "                   A         B         C         D  F\n",
       "2016-05-20  0.499541  1.208421  1.521087  0.000000  3\n",
       "2016-05-21  0.590088  1.858737  0.142100  0.076725  5\n",
       "2016-05-22  0.337256 -0.564150  0.455163  1.388999  3\n",
       "2016-05-23  1.814928 -0.400173 -0.184030  0.858760  4\n",
       "2016-05-24 -0.201217 -0.601466  0.565065 -0.421012  2\n",
       "2016-05-25  0.253561 -0.416451  0.130984 -0.000867  1"
      ]
     },
     "execution_count": 49,
     "metadata": {},
     "output_type": "execute_result"
    }
   ],
   "source": [
    "# Setting by label\n",
    "df.at[firstdate,'D']=0\n",
    "df"
   ]
  },
  {
   "cell_type": "code",
   "execution_count": 50,
   "metadata": {
    "collapsed": false
   },
   "outputs": [
    {
     "data": {
      "text/html": [
       "<div>\n",
       "<table border=\"1\" class=\"dataframe\">\n",
       "  <thead>\n",
       "    <tr style=\"text-align: right;\">\n",
       "      <th></th>\n",
       "      <th>A</th>\n",
       "      <th>B</th>\n",
       "      <th>C</th>\n",
       "      <th>D</th>\n",
       "      <th>F</th>\n",
       "    </tr>\n",
       "  </thead>\n",
       "  <tbody>\n",
       "    <tr>\n",
       "      <th>2016-05-20</th>\n",
       "      <td>0.499541</td>\n",
       "      <td>1.208421</td>\n",
       "      <td>1.521087</td>\n",
       "      <td>0.000000</td>\n",
       "      <td>3</td>\n",
       "    </tr>\n",
       "    <tr>\n",
       "      <th>2016-05-21</th>\n",
       "      <td>0.590088</td>\n",
       "      <td>1.858737</td>\n",
       "      <td>0.142100</td>\n",
       "      <td>50.000000</td>\n",
       "      <td>5</td>\n",
       "    </tr>\n",
       "    <tr>\n",
       "      <th>2016-05-22</th>\n",
       "      <td>0.337256</td>\n",
       "      <td>-0.564150</td>\n",
       "      <td>0.455163</td>\n",
       "      <td>1.388999</td>\n",
       "      <td>3</td>\n",
       "    </tr>\n",
       "    <tr>\n",
       "      <th>2016-05-23</th>\n",
       "      <td>1.814928</td>\n",
       "      <td>-0.400173</td>\n",
       "      <td>-0.184030</td>\n",
       "      <td>0.858760</td>\n",
       "      <td>4</td>\n",
       "    </tr>\n",
       "    <tr>\n",
       "      <th>2016-05-24</th>\n",
       "      <td>-0.201217</td>\n",
       "      <td>-0.601466</td>\n",
       "      <td>0.565065</td>\n",
       "      <td>-0.421012</td>\n",
       "      <td>2</td>\n",
       "    </tr>\n",
       "    <tr>\n",
       "      <th>2016-05-25</th>\n",
       "      <td>0.253561</td>\n",
       "      <td>-0.416451</td>\n",
       "      <td>0.130984</td>\n",
       "      <td>-0.000867</td>\n",
       "      <td>1</td>\n",
       "    </tr>\n",
       "  </tbody>\n",
       "</table>\n",
       "</div>"
      ],
      "text/plain": [
       "                   A         B         C          D  F\n",
       "2016-05-20  0.499541  1.208421  1.521087   0.000000  3\n",
       "2016-05-21  0.590088  1.858737  0.142100  50.000000  5\n",
       "2016-05-22  0.337256 -0.564150  0.455163   1.388999  3\n",
       "2016-05-23  1.814928 -0.400173 -0.184030   0.858760  4\n",
       "2016-05-24 -0.201217 -0.601466  0.565065  -0.421012  2\n",
       "2016-05-25  0.253561 -0.416451  0.130984  -0.000867  1"
      ]
     },
     "execution_count": 50,
     "metadata": {},
     "output_type": "execute_result"
    }
   ],
   "source": [
    "# Setting by position\n",
    "df.iat[1,3]=50\n",
    "df"
   ]
  },
  {
   "cell_type": "code",
   "execution_count": 51,
   "metadata": {
    "collapsed": false
   },
   "outputs": [
    {
     "data": {
      "text/html": [
       "<div>\n",
       "<table border=\"1\" class=\"dataframe\">\n",
       "  <thead>\n",
       "    <tr style=\"text-align: right;\">\n",
       "      <th></th>\n",
       "      <th>A</th>\n",
       "      <th>B</th>\n",
       "      <th>C</th>\n",
       "      <th>D</th>\n",
       "      <th>F</th>\n",
       "    </tr>\n",
       "  </thead>\n",
       "  <tbody>\n",
       "    <tr>\n",
       "      <th>2016-05-20</th>\n",
       "      <td>0.499541</td>\n",
       "      <td>1.208421</td>\n",
       "      <td>1.521087</td>\n",
       "      <td>4</td>\n",
       "      <td>3</td>\n",
       "    </tr>\n",
       "    <tr>\n",
       "      <th>2016-05-21</th>\n",
       "      <td>0.590088</td>\n",
       "      <td>1.858737</td>\n",
       "      <td>0.142100</td>\n",
       "      <td>2</td>\n",
       "      <td>5</td>\n",
       "    </tr>\n",
       "    <tr>\n",
       "      <th>2016-05-22</th>\n",
       "      <td>0.337256</td>\n",
       "      <td>-0.564150</td>\n",
       "      <td>0.455163</td>\n",
       "      <td>3</td>\n",
       "      <td>3</td>\n",
       "    </tr>\n",
       "    <tr>\n",
       "      <th>2016-05-23</th>\n",
       "      <td>1.814928</td>\n",
       "      <td>-0.400173</td>\n",
       "      <td>-0.184030</td>\n",
       "      <td>1</td>\n",
       "      <td>4</td>\n",
       "    </tr>\n",
       "    <tr>\n",
       "      <th>2016-05-24</th>\n",
       "      <td>-0.201217</td>\n",
       "      <td>-0.601466</td>\n",
       "      <td>0.565065</td>\n",
       "      <td>1</td>\n",
       "      <td>2</td>\n",
       "    </tr>\n",
       "    <tr>\n",
       "      <th>2016-05-25</th>\n",
       "      <td>0.253561</td>\n",
       "      <td>-0.416451</td>\n",
       "      <td>0.130984</td>\n",
       "      <td>1</td>\n",
       "      <td>1</td>\n",
       "    </tr>\n",
       "  </tbody>\n",
       "</table>\n",
       "</div>"
      ],
      "text/plain": [
       "                   A         B         C  D  F\n",
       "2016-05-20  0.499541  1.208421  1.521087  4  3\n",
       "2016-05-21  0.590088  1.858737  0.142100  2  5\n",
       "2016-05-22  0.337256 -0.564150  0.455163  3  3\n",
       "2016-05-23  1.814928 -0.400173 -0.184030  1  4\n",
       "2016-05-24 -0.201217 -0.601466  0.565065  1  2\n",
       "2016-05-25  0.253561 -0.416451  0.130984  1  1"
      ]
     },
     "execution_count": 51,
     "metadata": {},
     "output_type": "execute_result"
    }
   ],
   "source": [
    "# Assign using numpy array\n",
    "\n",
    "df.loc[:,'D']=np.array([4,2,3,1,1,1])\n",
    "df"
   ]
  },
  {
   "cell_type": "code",
   "execution_count": 52,
   "metadata": {
    "collapsed": false
   },
   "outputs": [
    {
     "data": {
      "text/html": [
       "<div>\n",
       "<table border=\"1\" class=\"dataframe\">\n",
       "  <thead>\n",
       "    <tr style=\"text-align: right;\">\n",
       "      <th></th>\n",
       "      <th>A</th>\n",
       "      <th>B</th>\n",
       "      <th>C</th>\n",
       "      <th>D</th>\n",
       "      <th>F</th>\n",
       "    </tr>\n",
       "  </thead>\n",
       "  <tbody>\n",
       "    <tr>\n",
       "      <th>2016-05-20</th>\n",
       "      <td>0.499541</td>\n",
       "      <td>1.208421</td>\n",
       "      <td>1.521087</td>\n",
       "      <td>5</td>\n",
       "      <td>3</td>\n",
       "    </tr>\n",
       "    <tr>\n",
       "      <th>2016-05-21</th>\n",
       "      <td>0.590088</td>\n",
       "      <td>1.858737</td>\n",
       "      <td>0.142100</td>\n",
       "      <td>5</td>\n",
       "      <td>5</td>\n",
       "    </tr>\n",
       "    <tr>\n",
       "      <th>2016-05-22</th>\n",
       "      <td>0.337256</td>\n",
       "      <td>-0.564150</td>\n",
       "      <td>0.455163</td>\n",
       "      <td>5</td>\n",
       "      <td>3</td>\n",
       "    </tr>\n",
       "    <tr>\n",
       "      <th>2016-05-23</th>\n",
       "      <td>1.814928</td>\n",
       "      <td>-0.400173</td>\n",
       "      <td>-0.184030</td>\n",
       "      <td>2</td>\n",
       "      <td>4</td>\n",
       "    </tr>\n",
       "    <tr>\n",
       "      <th>2016-05-24</th>\n",
       "      <td>-0.201217</td>\n",
       "      <td>-0.601466</td>\n",
       "      <td>0.565065</td>\n",
       "      <td>2</td>\n",
       "      <td>2</td>\n",
       "    </tr>\n",
       "    <tr>\n",
       "      <th>2016-05-25</th>\n",
       "      <td>0.253561</td>\n",
       "      <td>-0.416451</td>\n",
       "      <td>0.130984</td>\n",
       "      <td>2</td>\n",
       "      <td>1</td>\n",
       "    </tr>\n",
       "  </tbody>\n",
       "</table>\n",
       "</div>"
      ],
      "text/plain": [
       "                   A         B         C  D  F\n",
       "2016-05-20  0.499541  1.208421  1.521087  5  3\n",
       "2016-05-21  0.590088  1.858737  0.142100  5  5\n",
       "2016-05-22  0.337256 -0.564150  0.455163  5  3\n",
       "2016-05-23  1.814928 -0.400173 -0.184030  2  4\n",
       "2016-05-24 -0.201217 -0.601466  0.565065  2  2\n",
       "2016-05-25  0.253561 -0.416451  0.130984  2  1"
      ]
     },
     "execution_count": 52,
     "metadata": {},
     "output_type": "execute_result"
    }
   ],
   "source": [
    "# Assign using a regular list?\n",
    "\n",
    "df.loc[:,'D']=[5,5,5,2,2,2]\n",
    "df\n",
    "\n",
    "# Yes!"
   ]
  },
  {
   "cell_type": "code",
   "execution_count": 53,
   "metadata": {
    "collapsed": false
   },
   "outputs": [
    {
     "data": {
      "text/html": [
       "<div>\n",
       "<table border=\"1\" class=\"dataframe\">\n",
       "  <thead>\n",
       "    <tr style=\"text-align: right;\">\n",
       "      <th></th>\n",
       "      <th>A</th>\n",
       "      <th>B</th>\n",
       "      <th>C</th>\n",
       "      <th>D</th>\n",
       "      <th>F</th>\n",
       "    </tr>\n",
       "  </thead>\n",
       "  <tbody>\n",
       "    <tr>\n",
       "      <th>2016-05-20</th>\n",
       "      <td>NaN</td>\n",
       "      <td>NaN</td>\n",
       "      <td>NaN</td>\n",
       "      <td>NaN</td>\n",
       "      <td>NaN</td>\n",
       "    </tr>\n",
       "    <tr>\n",
       "      <th>2016-05-21</th>\n",
       "      <td>NaN</td>\n",
       "      <td>NaN</td>\n",
       "      <td>NaN</td>\n",
       "      <td>NaN</td>\n",
       "      <td>NaN</td>\n",
       "    </tr>\n",
       "    <tr>\n",
       "      <th>2016-05-22</th>\n",
       "      <td>NaN</td>\n",
       "      <td>-0.564150</td>\n",
       "      <td>NaN</td>\n",
       "      <td>NaN</td>\n",
       "      <td>NaN</td>\n",
       "    </tr>\n",
       "    <tr>\n",
       "      <th>2016-05-23</th>\n",
       "      <td>NaN</td>\n",
       "      <td>-0.400173</td>\n",
       "      <td>-0.18403</td>\n",
       "      <td>NaN</td>\n",
       "      <td>NaN</td>\n",
       "    </tr>\n",
       "    <tr>\n",
       "      <th>2016-05-24</th>\n",
       "      <td>-0.201217</td>\n",
       "      <td>-0.601466</td>\n",
       "      <td>NaN</td>\n",
       "      <td>NaN</td>\n",
       "      <td>NaN</td>\n",
       "    </tr>\n",
       "    <tr>\n",
       "      <th>2016-05-25</th>\n",
       "      <td>NaN</td>\n",
       "      <td>-0.416451</td>\n",
       "      <td>NaN</td>\n",
       "      <td>NaN</td>\n",
       "      <td>NaN</td>\n",
       "    </tr>\n",
       "  </tbody>\n",
       "</table>\n",
       "</div>"
      ],
      "text/plain": [
       "                   A         B        C   D   F\n",
       "2016-05-20       NaN       NaN      NaN NaN NaN\n",
       "2016-05-21       NaN       NaN      NaN NaN NaN\n",
       "2016-05-22       NaN -0.564150      NaN NaN NaN\n",
       "2016-05-23       NaN -0.400173 -0.18403 NaN NaN\n",
       "2016-05-24 -0.201217 -0.601466      NaN NaN NaN\n",
       "2016-05-25       NaN -0.416451      NaN NaN NaN"
      ]
     },
     "execution_count": 53,
     "metadata": {},
     "output_type": "execute_result"
    }
   ],
   "source": [
    "# Copy a dataframe and then apply a 'where' operation to it (like thresholding)\n",
    "\n",
    "df2 = df.copy()\n",
    "df2 = df2[df2 < 0]\n",
    "df2"
   ]
  },
  {
   "cell_type": "code",
   "execution_count": 54,
   "metadata": {
    "collapsed": false
   },
   "outputs": [
    {
     "data": {
      "text/html": [
       "<div>\n",
       "<table border=\"1\" class=\"dataframe\">\n",
       "  <thead>\n",
       "    <tr style=\"text-align: right;\">\n",
       "      <th></th>\n",
       "      <th>A</th>\n",
       "      <th>B</th>\n",
       "      <th>C</th>\n",
       "      <th>D</th>\n",
       "      <th>F</th>\n",
       "    </tr>\n",
       "  </thead>\n",
       "  <tbody>\n",
       "    <tr>\n",
       "      <th>2016-05-20</th>\n",
       "      <td>0.000000</td>\n",
       "      <td>0.000000</td>\n",
       "      <td>0.00000</td>\n",
       "      <td>0.0</td>\n",
       "      <td>0.0</td>\n",
       "    </tr>\n",
       "    <tr>\n",
       "      <th>2016-05-21</th>\n",
       "      <td>0.000000</td>\n",
       "      <td>0.000000</td>\n",
       "      <td>0.00000</td>\n",
       "      <td>0.0</td>\n",
       "      <td>0.0</td>\n",
       "    </tr>\n",
       "    <tr>\n",
       "      <th>2016-05-22</th>\n",
       "      <td>0.000000</td>\n",
       "      <td>-0.564150</td>\n",
       "      <td>0.00000</td>\n",
       "      <td>0.0</td>\n",
       "      <td>0.0</td>\n",
       "    </tr>\n",
       "    <tr>\n",
       "      <th>2016-05-23</th>\n",
       "      <td>0.000000</td>\n",
       "      <td>-0.400173</td>\n",
       "      <td>-0.18403</td>\n",
       "      <td>0.0</td>\n",
       "      <td>0.0</td>\n",
       "    </tr>\n",
       "    <tr>\n",
       "      <th>2016-05-24</th>\n",
       "      <td>-0.201217</td>\n",
       "      <td>-0.601466</td>\n",
       "      <td>0.00000</td>\n",
       "      <td>0.0</td>\n",
       "      <td>0.0</td>\n",
       "    </tr>\n",
       "    <tr>\n",
       "      <th>2016-05-25</th>\n",
       "      <td>0.000000</td>\n",
       "      <td>-0.416451</td>\n",
       "      <td>0.00000</td>\n",
       "      <td>0.0</td>\n",
       "      <td>0.0</td>\n",
       "    </tr>\n",
       "  </tbody>\n",
       "</table>\n",
       "</div>"
      ],
      "text/plain": [
       "                   A         B        C    D    F\n",
       "2016-05-20  0.000000  0.000000  0.00000  0.0  0.0\n",
       "2016-05-21  0.000000  0.000000  0.00000  0.0  0.0\n",
       "2016-05-22  0.000000 -0.564150  0.00000  0.0  0.0\n",
       "2016-05-23  0.000000 -0.400173 -0.18403  0.0  0.0\n",
       "2016-05-24 -0.201217 -0.601466  0.00000  0.0  0.0\n",
       "2016-05-25  0.000000 -0.416451  0.00000  0.0  0.0"
      ]
     },
     "execution_count": 54,
     "metadata": {},
     "output_type": "execute_result"
    }
   ],
   "source": [
    "# Convert all the NaNs to zeros.\n",
    "\n",
    "df2.fillna(0)"
   ]
  },
  {
   "cell_type": "code",
   "execution_count": null,
   "metadata": {
    "collapsed": true
   },
   "outputs": [],
   "source": []
  }
 ],
 "metadata": {
  "kernelspec": {
   "display_name": "Python 2",
   "language": "python",
   "name": "python2"
  },
  "language_info": {
   "codemirror_mode": {
    "name": "ipython",
    "version": 2
   },
   "file_extension": ".py",
   "mimetype": "text/x-python",
   "name": "python",
   "nbconvert_exporter": "python",
   "pygments_lexer": "ipython2",
   "version": "2.7.11"
  }
 },
 "nbformat": 4,
 "nbformat_minor": 0
}
